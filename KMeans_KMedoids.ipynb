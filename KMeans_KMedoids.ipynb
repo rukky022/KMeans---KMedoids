{
 "cells": [
  {
   "cell_type": "code",
   "execution_count": 1,
   "id": "40bb848d-0de5-4de8-9896-40fd8622a204",
   "metadata": {},
   "outputs": [],
   "source": [
    "import numpy as np\n",
    "import pandas as pd\n",
    "import matplotlib.pyplot as plt\n",
    "import random\n",
    "import math"
   ]
  },
  {
   "cell_type": "code",
   "execution_count": 2,
   "id": "7f786d40-4b03-4b35-a45d-ef00b671040c",
   "metadata": {},
   "outputs": [],
   "source": [
    "df = pd.read_csv(\"data.csv\")"
   ]
  },
  {
   "cell_type": "code",
   "execution_count": 3,
   "id": "7529efe5-74fc-486b-9b6b-b08648988eb4",
   "metadata": {},
   "outputs": [
    {
     "data": {
      "text/plain": [
       "(0.0, 9.0)"
      ]
     },
     "execution_count": 3,
     "metadata": {},
     "output_type": "execute_result"
    },
    {
     "data": {
      "image/png": "[encoded data removed]",
      "text/plain": [
       "<Figure size 432x288 with 1 Axes>"
      ]
     },
     "metadata": {
      "needs_background": "light"
     },
     "output_type": "display_data"
    }
   ],
   "source": [
    "plt.scatter(df['x'], df['y'], s=60)\n",
    "plt.grid()\n",
    "plt.xlim(0, 9)\n",
    "plt.ylim(0, 9)"
   ]
  },
  {
   "cell_type": "markdown",
   "id": "dd559064-4acf-473c-8237-053807aee202",
   "metadata": {},
   "source": [
    "## K_Means and K_Mediods"
   ]
  },
  {
   "cell_type": "code",
   "execution_count": 4,
   "id": "80c3da9a-4a3f-4d52-8768-05f6179722ef",
   "metadata": {},
   "outputs": [],
   "source": [
    "# euclidean distance\n",
    "def euc_dist(point1, point2):\n",
    "    return math.sqrt(((point1['x'] - point2['x'])**2) + ((point1['y'] - point2['y']) **2))"
   ]
  },
  {
   "cell_type": "code",
   "execution_count": 5,
   "id": "df7d0757-82e8-4a87-8669-5e4e871a74f0",
   "metadata": {},
   "outputs": [],
   "source": [
    "# initialize clusters randomly\n",
    "def initialize_clusters(k, data):\n",
    "    # initialize cluster names and data dict\n",
    "    c_names = [\"C\"+str(i+1) for i in range(k)]\n",
    "    d = {'c_name': c_names, 'x': [], 'y': []}\n",
    "    \n",
    "    # choose a random index from the data as initial mean\n",
    "    mean_points = []\n",
    "    for i in range(len(c_names)):\n",
    "        ind = random.randrange(0, data.shape[0])\n",
    "        while(ind in mean_points):\n",
    "            ind = random.randrange(0, data.shape[0])\n",
    "        \n",
    "        # append it to the cluster data dict and record used point\n",
    "        mean_points.append(ind)\n",
    "        d['x'].append(data.iloc[ind]['x'])\n",
    "        d['y'].append(data.iloc[ind]['y'])\n",
    "    \n",
    "    #create cluster dataframe\n",
    "    clusters = pd.DataFrame(data=d)\n",
    "    \n",
    "    return clusters"
   ]
  },
  {
   "cell_type": "code",
   "execution_count": 6,
   "id": "59dd91ed-84fe-4a5c-b6e9-e6baa88f43a5",
   "metadata": {},
   "outputs": [],
   "source": [
    "# assign data point to cluster with min distance\n",
    "def assign_class(data, clusters, result_df):\n",
    "    # for each data point\n",
    "    for i in data.index:\n",
    "        # initialize the mini variable and save associated class name\n",
    "        mini = euc_dist(data.iloc[i], clusters.iloc[0])\n",
    "        miniC = clusters.loc[0, 'c_name']\n",
    "\n",
    "        # for each cluster\n",
    "        for j in clusters.index:\n",
    "            # calculate the data point's distance from the cluster\n",
    "            calc = euc_dist(data.iloc[i], clusters.iloc[j])\n",
    "\n",
    "            # if it's less than the previously saved cluster,\n",
    "            # update the variables\n",
    "            if(calc < mini):\n",
    "                mini = calc\n",
    "                miniC = clusters.loc[j, 'c_name']\n",
    "\n",
    "        # save the cluster with the minimum distance as the data points class\n",
    "        result_df.loc[i, 'class'] = miniC\n",
    "    return result_df"
   ]
  },
  {
   "cell_type": "code",
   "execution_count": 7,
   "id": "a21b1bb6-bb15-45ad-9d1c-b07b4d2b06ce",
   "metadata": {},
   "outputs": [],
   "source": [
    "# problem 2 - k-mediods\n",
    "def update_mediod(cluster, old_mediod):\n",
    "    newCluster = cluster.copy()\n",
    "    newCluster = newCluster.reset_index(drop = True)\n",
    "    \n",
    "    mini = float('inf')\n",
    "    new_mediod = old_mediod\n",
    "    \n",
    "    for i in newCluster.index:\n",
    "        sum_cost = 0\n",
    "        for j in newCluster.index:\n",
    "            sum_cost += euc_dist(newCluster.iloc[i], newCluster.iloc[j])\n",
    "        if(sum_cost < mini):\n",
    "            mini = sum_cost\n",
    "            new_mediod = [newCluster.loc[i, 'x'], newCluster.loc[i, 'y']]\n",
    "    \n",
    "    return new_mediod"
   ]
  },
  {
   "cell_type": "code",
   "execution_count": 8,
   "id": "1ae1723e-96f0-4191-aa49-500f49bd9dce",
   "metadata": {},
   "outputs": [],
   "source": [
    "# problem 1 and 2 (solve for either k_means or k_mediods)\n",
    "def k_classify(k, data, typeK):\n",
    "    \n",
    "    # create cluster dataframe\n",
    "    clusters = initialize_clusters(k, data)\n",
    "    \n",
    "    # initialize class column in data\n",
    "    result_df = data.copy()\n",
    "    result_df['class'] = ''\n",
    "    \n",
    "    # used to determine termination condition\n",
    "    anyChange = True\n",
    "    iteration = 1;\n",
    "    \n",
    "    while(anyChange):\n",
    "        # record previous class assignment\n",
    "        prevClass = result_df['class'].copy()\n",
    "        \n",
    "        # assign clusters to each data point\n",
    "        result_df = assign_class(data, clusters, result_df)\n",
    "        \n",
    "        # once all data points are updated, check to see if it differs from previous\n",
    "        # classification. If not, then set terminating condition false and end loop\n",
    "        if((result_df['class'] == prevClass).all()):\n",
    "            anyChange = False\n",
    "            break\n",
    "        \n",
    "        # update the clusters\n",
    "        for i in clusters.index:\n",
    "            cluster_data = result_df[result_df['class'] == clusters.loc[i, 'c_name']].copy()            \n",
    "            \n",
    "            # update the cluster mean\n",
    "            if(typeK == \"means\"):\n",
    "                clusters.loc[i, 'x'] = (sum(cluster_data['x'])/cluster_data.shape[0])\n",
    "                clusters.loc[i, 'y'] = (sum(cluster_data['y'])/cluster_data.shape[0])\n",
    "                \n",
    "            # update the cluster mediod    \n",
    "            elif(typeK == \"mediods\"):\n",
    "                mediod = update_mediod(cluster_data, [clusters.loc[i, 'x'], clusters.loc[i, 'y']])\n",
    "                clusters.loc[i, 'x'] = mediod[0]\n",
    "                clusters.loc[i, 'y'] = mediod[1]\n",
    "\n",
    "        plt.figure(figsize=(5, 5))\n",
    "\n",
    "        # plot the data points and color them based on class\n",
    "        plt.scatter(result_df['x'], result_df['y'], c=result_df['class'], s=80)\n",
    "\n",
    "        # plot the new cluster means\n",
    "        plt.scatter(clusters['x'], clusters['y'], edgecolors=clusters['c_name'], c=\"Black\", s=100)\n",
    "        \n",
    "        plt.title(\"Iteration \" + str(iteration)) \n",
    "        plt.grid()\n",
    "        plt.xlim(0, 9)\n",
    "        plt.ylim(0, 9)\n",
    "        plt.show()\n",
    "        \n",
    "        # print cluster means\n",
    "        if(typeK == \"means\"):\n",
    "            print(\"Cluster Means:\")\n",
    "        elif(typeK == \"mediods\"):\n",
    "            print(\"Cluster Mediods:\")\n",
    "        print(*[(clusters.loc[i, 'c_name'] + \": (\" + str(clusters.loc[i, 'x']) + \", \" + str(clusters.loc[i, 'y']) + \")\") for i in clusters.index], sep=\"\\n\")\n",
    "        print(\" \")\n",
    "        \n",
    "        #update iteration counter\n",
    "        iteration += 1\n",
    "    \n",
    "    return clusters, result_df"
   ]
  },
  {
   "cell_type": "markdown",
   "id": "89654461-e30b-4dc5-8aaf-cea576fa3159",
   "metadata": {},
   "source": [
    "### K_Means"
   ]
  },
  {
   "cell_type": "code",
   "execution_count": 9,
   "id": "b44190ea-0045-4f5b-9cb5-0f1f7d6b8dce",
   "metadata": {},
   "outputs": [],
   "source": [
    "df_kmeans = df.copy()"
   ]
  },
  {
   "cell_type": "code",
   "execution_count": 10,
   "id": "fda53ad7-aec1-44e2-a6bf-76e228908692",
   "metadata": {},
   "outputs": [
    {
     "data": {
      "image/png": "[encoded data removed]",
      "text/plain": [
       "<Figure size 360x360 with 1 Axes>"
      ]
     },
     "metadata": {
      "needs_background": "light"
     },
     "output_type": "display_data"
    },
    {
     "name": "stdout",
     "output_type": "stream",
     "text": [
      "Cluster Means:\n",
      "C1: (4.875, 2.375)\n",
      "C2: (4.083333333333333, 6.583333333333333)\n",
      " \n"
     ]
    },
    {
     "data": {
      "image/png": "[encoded data removed]",
      "text/plain": [
       "<Figure size 360x360 with 1 Axes>"
      ]
     },
     "metadata": {
      "needs_background": "light"
     },
     "output_type": "display_data"
    },
    {
     "name": "stdout",
     "output_type": "stream",
     "text": [
      "Cluster Means:\n",
      "C1: (5.666666666666667, 2.4444444444444446)\n",
      "C2: (3.3636363636363638, 6.909090909090909)\n",
      " \n"
     ]
    },
    {
     "data": {
      "image/png": "[encoded data removed]",
      "text/plain": [
       "<Figure size 360x360 with 1 Axes>"
      ]
     },
     "metadata": {
      "needs_background": "light"
     },
     "output_type": "display_data"
    },
    {
     "name": "stdout",
     "output_type": "stream",
     "text": [
      "Cluster Means:\n",
      "C1: (5.8, 2.7)\n",
      "C2: (3.0, 7.1)\n",
      " \n"
     ]
    }
   ],
   "source": [
    "clusters_kmeans, updated_df_kmeans = k_classify(2, df_kmeans, \"means\")"
   ]
  },
  {
   "cell_type": "markdown",
   "id": "8c70f677-fedc-4330-8bdc-f53c8598c302",
   "metadata": {},
   "source": [
    "### K_Mediods"
   ]
  },
  {
   "cell_type": "code",
   "execution_count": 11,
   "id": "95b7f234-9bdc-492a-8e75-ede1ddba9ec1",
   "metadata": {},
   "outputs": [],
   "source": [
    "df_kmediods = df.copy()"
   ]
  },
  {
   "cell_type": "code",
   "execution_count": 12,
   "id": "0feadecc-2681-4f92-99e7-3b133b10c6f4",
   "metadata": {},
   "outputs": [
    {
     "data": {
      "image/png": "[encoded data removed]",
      "text/plain": [
       "<Figure size 360x360 with 1 Axes>"
      ]
     },
     "metadata": {
      "needs_background": "light"
     },
     "output_type": "display_data"
    },
    {
     "name": "stdout",
     "output_type": "stream",
     "text": [
      "Cluster Mediods:\n",
      "C1: (2, 7)\n",
      "C2: (7, 3)\n",
      " \n"
     ]
    },
    {
     "data": {
      "image/png": "[encoded data removed]",
      "text/plain": [
       "<Figure size 360x360 with 1 Axes>"
      ]
     },
     "metadata": {
      "needs_background": "light"
     },
     "output_type": "display_data"
    },
    {
     "name": "stdout",
     "output_type": "stream",
     "text": [
      "Cluster Mediods:\n",
      "C1: (2, 7)\n",
      "C2: (7, 3)\n",
      " \n"
     ]
    }
   ],
   "source": [
    "clusters_kmediods, updated_df_kmediods = k_classify(2, df_kmediods, \"mediods\")"
   ]
  },
  {
   "cell_type": "code",
   "execution_count": null,
   "id": "350c0a67-6559-4a3c-8393-dc067f9f8aec",
   "metadata": {},
   "outputs": [],
   "source": []
  }
 ],
 "metadata": {
  "kernelspec": {
   "display_name": "Python 3 (ipykernel)",
   "language": "python",
   "name": "python3"
  },
  "language_info": {
   "codemirror_mode": {
    "name": "ipython",
    "version": 3
   },
   "file_extension": ".py",
   "mimetype": "text/x-python",
   "name": "python",
   "nbconvert_exporter": "python",
   "pygments_lexer": "ipython3",
   "version": "3.9.7"
  }
 },
 "nbformat": 4,
 "nbformat_minor": 5
}
